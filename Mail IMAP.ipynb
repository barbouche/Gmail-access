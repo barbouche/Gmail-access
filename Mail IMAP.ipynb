{
 "cells": [
  {
   "cell_type": "code",
   "execution_count": null,
   "metadata": {},
   "outputs": [],
   "source": [
    "import imaplib\n",
    "import base64\n",
    "import os\n",
    "import email\n",
    "import re\n",
    "import dns.resolver\n",
    "import email.header\n",
    "from pprint import pprint\n",
    "from datetime import datetime\n"
   ]
  },
  {
   "cell_type": "code",
   "execution_count": null,
   "metadata": {},
   "outputs": [],
   "source": [
    "class Mail:\n",
    "\n",
    "       def __init__(self,From,date_time,msg_id,to,body,subject=\"\",replay_to=\"\",cc=[],bcc=[]):  \n",
    "                    self.From = From\n",
    "                    self.date_time = date_time\n",
    "                    self.msg_id= msg_id\n",
    "                    self.subject = subject\n",
    "                    self.replay_to = replay_to\n",
    "                    self.to = to\n",
    "                    self.body = body\n",
    "                    self.cc = cc\n",
    "                    self.bcc = bcc   \n",
    "      "
   ]
  },
  {
   "cell_type": "code",
   "execution_count": null,
   "metadata": {},
   "outputs": [],
   "source": [
    "\n",
    "class Connexion:\n",
    "    \n",
    "    domaine_name = {}\n",
    "    \n",
    "    def __init__(self,email_user,email_pass,server):\n",
    "        self.email_user = email_user\n",
    "        self.email_pass = email_pass\n",
    "        self.server = server\n",
    "\n",
    "    def credentials(self):\n",
    "        self.conn = imaplib.IMAP4_SSL(self.server)\n",
    "        self.conn.login(self.email_user, self.email_pass)\n",
    "        self.conn.select('Inbox',False)\n",
    "        return self.conn\n",
    "    \n",
    "    def logout(self):\n",
    "        self.conn.close()\n",
    "        self.conn.logout()\n",
    "        \n",
    "    def get_domaine_name(self):\n",
    "        self.domaine_name.update( {self.email_user: self.email_user.split('@')[1] } )\n",
    "        return self.domaine_name\n",
    "\n",
    "    def read(self):\n",
    "         \n",
    "            \n",
    "        self.emails = []\n",
    "        typ, ids = self.conn.uid('search',None, 'ALL' )\n",
    "        ids = ids[0].decode().split()\n",
    "        for id in ids:\n",
    "            print(ids)\n",
    "            typ, messageRaw = self.conn.uid('fetch',id,'(RFC822)')\n",
    "            msg = email.message_from_bytes(messageRaw[0][1])\n",
    "            #pprint(msg.__dict__['_payload'][0].__dict__)\n",
    "            print(msg.is_multipart())\n",
    "            \n",
    "            if msg.is_multipart():\n",
    "                        for num,part in enumerate(msg.walk()):\n",
    "                     \n",
    "                            if part.get('From') and part.get('To') and part.get('Date') and part.get('Subject'):\n",
    "                                From=part.get('From')\n",
    "                                To=part.get('To')\n",
    "                                date=part.get('Date')\n",
    "\n",
    "                                data_remains = ['(UTC)', '(GMT)', '(CDT)','(IST)', '(CST)']\n",
    "                                if any(x in date for x in data_remains):\n",
    "                                    date=datetime.strptime(date, \"%a, %d %b %Y %H:%M:%S %z (%Z)\")\n",
    "                                else:\n",
    "                                    date=datetime.strptime(date, \"%a, %d %b %Y %H:%M:%S %z\")\n",
    "                                subject=part.get('Subject')\n",
    "                            type_ = part.get_content_type()\n",
    "                            disp = str(part.get('Content-Disposition'))\n",
    "                            # look for plain text parts, but skip attachments\n",
    "                            if type_ == 'text/plain' and 'attachment' not in disp:\n",
    "                                body = part.get_payload(decode=True).decode('utf8')\n",
    "                                print('email Content : ', body)\n",
    "                                self.current_email = Mail(From = From,\n",
    "                                date_time = date,\n",
    "                                msg_id = '',\n",
    "                                to = To,\n",
    "                                body = body,\n",
    "                                subject = subject,\n",
    "                                replay_to = '',\n",
    "                                cc = [],\n",
    "                                bcc =[])\n",
    "                                self.emails.append(self.current_email)\n",
    "        #print('Total message'+str( num))"
   ]
  },
  {
   "cell_type": "code",
   "execution_count": null,
   "metadata": {},
   "outputs": [],
   "source": [
    "# email, passwd,  method to acess if you want send use smtp\n",
    "connect = Connexion('xxxx','xxxx','imap.gmail.com')"
   ]
  },
  {
   "cell_type": "code",
   "execution_count": null,
   "metadata": {},
   "outputs": [],
   "source": [
    "connect.credentials()\n",
    "\n"
   ]
  },
  {
   "cell_type": "code",
   "execution_count": null,
   "metadata": {},
   "outputs": [],
   "source": [
    "connect.read()\n"
   ]
  },
  {
   "cell_type": "code",
   "execution_count": null,
   "metadata": {},
   "outputs": [],
   "source": [
    "x =connect.emails"
   ]
  },
  {
   "cell_type": "code",
   "execution_count": null,
   "metadata": {},
   "outputs": [],
   "source": [
    "len(x)"
   ]
  },
  {
   "cell_type": "code",
   "execution_count": null,
   "metadata": {},
   "outputs": [],
   "source": [
    "connect.emails[0]"
   ]
  },
  {
   "cell_type": "code",
   "execution_count": null,
   "metadata": {},
   "outputs": [],
   "source": [
    "connect.emails[1].body"
   ]
  },
  {
   "cell_type": "code",
   "execution_count": null,
   "metadata": {},
   "outputs": [],
   "source": [
    "connect.logout()"
   ]
  }
 ],
 "metadata": {
  "kernelspec": {
   "display_name": "Python 3",
   "language": "python",
   "name": "python3"
  },
  "language_info": {
   "codemirror_mode": {
    "name": "ipython",
    "version": 3
   },
   "file_extension": ".py",
   "mimetype": "text/x-python",
   "name": "python",
   "nbconvert_exporter": "python",
   "pygments_lexer": "ipython3",
   "version": "3.6.8"
  }
 },
 "nbformat": 4,
 "nbformat_minor": 2
}
