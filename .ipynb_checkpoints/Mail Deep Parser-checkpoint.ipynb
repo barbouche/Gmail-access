{
 "cells": [
  {
   "cell_type": "code",
   "execution_count": null,
   "metadata": {},
   "outputs": [],
   "source": [
    "class Mail:\n",
    "    def __init__(self,From,date_time,msg_id,to,body,subject=\"\",replay_to=\"\",cc=[],bcc=[]):  \n",
    "                self.From = From\n",
    "                self.date_time = date_time\n",
    "                self.msg_id= msg_id\n",
    "                self.subject = subject\n",
    "                self.replay_to = replay_to\n",
    "                self.to = to\n",
    "                self.body = body\n",
    "                self.cc = cc\n",
    "                self.bcc = bcc      "
   ]
  },
  {
   "cell_type": "code",
   "execution_count": null,
   "metadata": {},
   "outputs": [],
   "source": [
    "from __future__ import print_function\n",
    "import pickle\n",
    "import os.path\n",
    "from googleapiclient.discovery import build\n",
    "from google_auth_oauthlib.flow import InstalledAppFlow\n",
    "from google.auth.transport.requests import Request\n",
    "from pprint import pprint\n",
    "import re\n",
    "from datetime import datetime\n",
    "import base64\n",
    "#from bs4 import BeautifulSoup\n",
    "#import mail\n",
    "\n",
    "class GmailConnexion:\n",
    "    credentials = None\n",
    "    def __init__(self,labelIds='INBOX', maxResults = 100):\n",
    "        self.labelIds = labelIds\n",
    "        self.maxResults = maxResults\n",
    "\n",
    "    def ckeck_credentials(self):\n",
    "        if not self.credentials:\n",
    "            SCOPES = ['https://www.googleapis.com/auth/gmail.readonly']\n",
    "            flow = InstalledAppFlow.from_client_secrets_file('credentials.json', SCOPES)\n",
    "            self.credentials = flow.run_local_server(port=0)\n",
    "        if self.credentials:\n",
    "            if self.credentials.expired:\n",
    "                self.credentials.refresh(Request())\n",
    "        self.service = build('gmail', 'v1', credentials=self.credentials)\n",
    "\n",
    "    def readInfoUser(self):\n",
    "        userInfo = self.service.users().getProfile(userId='me').execute()\n",
    "        pprint(\"Details of users mailing is \\n %s\" % (userInfo))\n",
    "    \n",
    "    def get_emails(self,s,unique=False):\n",
    "        regEmails = re.compile(r'\\\"?(?P<EMAIL_TITLE>[\\w\\.\\-_]+)?\\\"?\\s?<(?P<EMAIL>[\\w\\._\\-]+@[\\w\\._\\-]+)>',flags=re.I)\n",
    "        match = re.search(regEmails, s)\n",
    "        if match:\n",
    "        #     print(\"\".join([i for i in match.groups() if i]))\n",
    "            pprint(match.groupdict())\n",
    "        #if unique:\n",
    "        #    re.search(regex, s, re.M|re.I)\n",
    "        #else:\n",
    "        #    return regEmails.findall(s)\n",
    "\n",
    "        \n",
    "    def read(self):\n",
    "            emails = []\n",
    "            # Call the Gmail API\n",
    "            results = self.service.users().messages().list(userId='me',labelIds =self.labelIds,maxResults=self.maxResults).execute()\n",
    "            messages = results.get('messages', [])\n",
    "            if not messages:\n",
    "                pprint('No labels found.')\n",
    "            else:\n",
    "                for num,message in enumerate(messages):\n",
    "                    temp={}\n",
    "                    temp['msg'] = self.service.users().messages().get(userId='me', id=message['id']).execute()\n",
    "                    #pprint(self.msg)\n",
    "                    temp['payld'] = temp['msg']['payload']\n",
    "                    temp['dict'] = {i['name']:i['value'] for i in temp['msg']['payload']['headers']}\n",
    "                    temp['From'] = self.get_emails(temp['dict']['From'],unique=True)\n",
    "                    temp['to'] = self.get_emails(temp['dict']['To'])\n",
    "                    temp['subject'] = temp['dict']['Subject']\n",
    "                    temp['date_time'] = temp['dict']['Date']\n",
    "                    msg_id = message['id']\n",
    "                    if temp['payld']['parts']: \n",
    "                        temp['email_parts'] = temp['payld']['parts'] \n",
    "                    temp['part_one']  = temp['email_parts'][0]\n",
    "                    temp['part_body'] = temp['part_one']['body']\n",
    "                    temp['part_data'] = temp['part_body'].get('data',\"\") \n",
    "                    temp['clean_one'] = temp['part_data'].replace(\"-\",\"+\") \n",
    "                    temp['clean_one'] = temp['clean_one'].replace(\"_\",\"/\") \n",
    "                    temp['clean_two'] = base64.b64decode (bytes(temp['clean_one'], 'UTF-8'))\n",
    "                    temp['body'] = temp['clean_two'].decode('utf8')\n",
    "                    replay_to= ''\n",
    "                    cc=[]\n",
    "                    bcc=[]\n",
    "                    \n",
    "                    #From,date,msg_id,To,content,subject=\"\",replay_to=\"\",cc=[],bcc=[]\n",
    "                    current_email = Mail(From = temp['From'],\n",
    "                                date_time = temp.get('date_time'),\n",
    "                                msg_id = temp.get('msg_id'),\n",
    "                                to = temp.get('to',[]),\n",
    "                                body = temp.get('body'),\n",
    "                                subject = temp.get('subject'),\n",
    "                                replay_to = temp.get('replay_to'),\n",
    "                                cc = temp.get('cc',[]),\n",
    "                                bcc = temp.get('bcc',[]))\n",
    "                    current_email.temp=temp\n",
    "                    emails.append(current_email)\n",
    "            return emails\n"
   ]
  },
  {
   "cell_type": "code",
   "execution_count": null,
   "metadata": {},
   "outputs": [],
   "source": [
    "#DEFAULT LABEL 'INBOX' exp (SENT,UNREAD) MAXRESULT '100'\n",
    "#you can send it within the connexion() method\n",
    "#this case we take only the first\n",
    "connect = GmailConnexion('INBOX',1)"
   ]
  },
  {
   "cell_type": "code",
   "execution_count": null,
   "metadata": {},
   "outputs": [],
   "source": [
    "connect.ckeck_credentials()"
   ]
  },
  {
   "cell_type": "code",
   "execution_count": null,
   "metadata": {},
   "outputs": [],
   "source": [
    "connect.readInfoUser()"
   ]
  },
  {
   "cell_type": "code",
   "execution_count": null,
   "metadata": {},
   "outputs": [],
   "source": [
    "emails = connect.read()"
   ]
  },
  {
   "cell_type": "code",
   "execution_count": null,
   "metadata": {},
   "outputs": [],
   "source": [
    "emails"
   ]
  }
 ],
 "metadata": {
  "kernelspec": {
   "display_name": "Python 3",
   "language": "python",
   "name": "python3"
  },
  "language_info": {
   "codemirror_mode": {
    "name": "ipython",
    "version": 3
   },
   "file_extension": ".py",
   "mimetype": "text/x-python",
   "name": "python",
   "nbconvert_exporter": "python",
   "pygments_lexer": "ipython3",
   "version": "3.6.8"
  }
 },
 "nbformat": 4,
 "nbformat_minor": 2
}
